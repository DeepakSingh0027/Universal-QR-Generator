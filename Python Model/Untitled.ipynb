{
 "cells": [
  {
   "cell_type": "code",
   "execution_count": 1,
   "id": "dc8d7626-401b-435f-ac48-8429a8c11c5e",
   "metadata": {},
   "outputs": [
    {
     "name": "stdout",
     "output_type": "stream",
     "text": [
      "Collecting qrcode[pil]\n",
      "  Downloading qrcode-8.0-py3-none-any.whl.metadata (17 kB)\n",
      "Requirement already satisfied: colorama in c:\\users\\deepak\\appdata\\local\\programs\\python\\python312\\lib\\site-packages (from qrcode[pil]) (0.4.6)\n",
      "Requirement already satisfied: pillow>=9.1.0 in c:\\users\\deepak\\appdata\\local\\programs\\python\\python312\\lib\\site-packages (from qrcode[pil]) (10.3.0)\n",
      "Downloading qrcode-8.0-py3-none-any.whl (45 kB)\n",
      "Installing collected packages: qrcode\n",
      "Successfully installed qrcode-8.0\n",
      "Note: you may need to restart the kernel to use updated packages.\n"
     ]
    },
    {
     "name": "stderr",
     "output_type": "stream",
     "text": [
      "\n",
      "[notice] A new release of pip is available: 24.2 -> 25.0.1\n",
      "[notice] To update, run: python.exe -m pip install --upgrade pip\n"
     ]
    }
   ],
   "source": [
    "pip install qrcode[pil]"
   ]
  },
  {
   "cell_type": "code",
   "execution_count": 4,
   "id": "e725dbe3-7ad7-4bd7-b1bb-80ea249fe9c0",
   "metadata": {},
   "outputs": [
    {
     "name": "stdout",
     "output_type": "stream",
     "text": [
      "Requirement already satisfied: qrcode[pil] in c:\\users\\deepak\\appdata\\local\\programs\\python\\python312\\lib\\site-packages (8.0)\n",
      "Requirement already satisfied: colorama in c:\\users\\deepak\\appdata\\local\\programs\\python\\python312\\lib\\site-packages (from qrcode[pil]) (0.4.6)\n",
      "Requirement already satisfied: pillow>=9.1.0 in c:\\users\\deepak\\appdata\\local\\programs\\python\\python312\\lib\\site-packages (from qrcode[pil]) (10.3.0)\n",
      "Note: you may need to restart the kernel to use updated packages.\n"
     ]
    },
    {
     "name": "stderr",
     "output_type": "stream",
     "text": [
      "\n",
      "[notice] A new release of pip is available: 24.2 -> 25.0.1\n",
      "[notice] To update, run: python.exe -m pip install --upgrade pip\n"
     ]
    }
   ],
   "source": [
    "pip install --upgrade qrcode[pil]"
   ]
  },
  {
   "cell_type": "code",
   "execution_count": 3,
   "id": "3a9cca95-dcd7-48d4-bbf3-170fce12ea00",
   "metadata": {},
   "outputs": [],
   "source": [
    "import qrcode"
   ]
  },
  {
   "cell_type": "code",
   "execution_count": null,
   "id": "831f0b9b-a68e-405f-967b-9c1b9ef18a33",
   "metadata": {},
   "outputs": [
    {
     "name": "stdout",
     "output_type": "stream",
     "text": [
      "QR Generated\n"
     ]
    }
   ],
   "source": [
    "#simple qr code (text,urls)\n",
    "def generate_qr(text,filename):\n",
    "    qr=qrcode.QRCode(\n",
    "        version=1,\n",
    "        error_correction=qrcode.constants.ERROR_CORRECT_L,\n",
    "        box_size=10,\n",
    "        border=4,\n",
    "    )\n",
    "    qr.add_data(text)\n",
    "    qr.make(fit=True)\n",
    "    img = qr.make_image(fill=\"black\",back_color=\"white\")\n",
    "    img.save(filename)\n",
    "    print(\"QR Generated\")\n",
    "\n",
    "generate_qr(\"Hi Deepak! How are you? If you get this message that means the qr is generated succesfully.\",\"test.png\")"
   ]
  },
  {
   "cell_type": "code",
   "execution_count": 2,
   "id": "e4f1263c-1d18-49da-9d28-dfa2e43d9d07",
   "metadata": {},
   "outputs": [
    {
     "name": "stdout",
     "output_type": "stream",
     "text": [
      "wifi Qr Generated\n"
     ]
    }
   ],
   "source": [
    "#qrcode (wifi)\n",
    "def generate_wifi_qr(ssid,password,filename,encryption=\"WPA\",hidden=False):\n",
    "    wifi_data = f\"WIFI:S:{ssid};T:{encryption};P:{password};H:{'true' if hidden else 'false'};;\"\n",
    "    #generate the QR code\n",
    "    qr = qrcode.QRCode(\n",
    "        version=1,\n",
    "        error_correction=qrcode.constants.ERROR_CORRECT_L,\n",
    "        box_size=10,\n",
    "        border=4,\n",
    "    )\n",
    "    qr.add_data(wifi_data)\n",
    "    qr.make(fit=True)\n",
    "\n",
    "    img=qr.make_image(fill=\"black\",back_color=\"white\")\n",
    "    img.save(filename)\n",
    "    print(\"wifi Qr Generated\")\n",
    "\n",
    "generate_wifi_qr(ssid=\"Airtel_yoge_1507\",password=\"yoge_1507@123\",filename=\"wifi_qr_test.png\")"
   ]
  },
  {
   "cell_type": "code",
   "execution_count": 6,
   "id": "41e3ee7e-dccb-4748-9437-fe13dd046482",
   "metadata": {},
   "outputs": [
    {
     "name": "stdout",
     "output_type": "stream",
     "text": [
      "QR generated\n"
     ]
    }
   ],
   "source": [
    "#qrcode (email)\n",
    "def generate_email_qr(email,subject=\"N/A\",body=\"N/A\",filename=\"email_test.png\"):\n",
    "    email_data = f\"mailto:{email}?subject={subject}&body={body}\"\n",
    "\n",
    "    qr = qrcode.make(email_data)\n",
    "    qr.save(filename)\n",
    "\n",
    "    print(\"QR generated\")\n",
    "\n",
    "generate_email_qr(\"deepaksinghdeopa27@email.com\", \"Meeting Update\", \"Hello, let's meet at 5 PM.\")"
   ]
  },
  {
   "cell_type": "code",
   "execution_count": 9,
   "id": "d5f4c5e0",
   "metadata": {},
   "outputs": [
    {
     "name": "stdout",
     "output_type": "stream",
     "text": [
      "SMS QR Code saved as sms_qr.png\n"
     ]
    }
   ],
   "source": [
    "#qrcode (sms)\n",
    "def generate_sms_qr(phone_number, message=\"Hello! How are you?\", filename=\"sms_qr.png\"):\n",
    "    sms_data = f\"smsto:{phone_number}:{message}\"\n",
    "    \n",
    "    qr = qrcode.make(sms_data)\n",
    "    qr.save(filename)\n",
    "    \n",
    "    print(f\"SMS QR Code saved as {filename}\")\n",
    "\n",
    "# Example Usage\n",
    "generate_sms_qr(\"+1234567890\", \"Hey! Where are you?\")\n"
   ]
  },
  {
   "cell_type": "code",
   "execution_count": 12,
   "id": "cbf3d69f",
   "metadata": {},
   "outputs": [
    {
     "name": "stdout",
     "output_type": "stream",
     "text": [
      "Merchant UPI QR Code saved as merchant_qr.png\n"
     ]
    }
   ],
   "source": [
    "#qrcode (merchant payment)\n",
    "def generate_merchant_qr(upi_id, name, amount, merchant_code, transaction_id, order_id, filename=\"merchant_qr.png\"):\n",
    "    upi_string = f\"upi://pay?pa={upi_id}&pn={name}&mc={merchant_code}&tid={transaction_id}&tr={order_id}&tn=Order Payment&am={amount}&cu=INR\"\n",
    "\n",
    "    qr = qrcode.make(upi_string)\n",
    "    qr.save(filename)\n",
    "    print(f\"Merchant UPI QR Code saved as {filename}\")\n",
    "\n",
    "# Example Usage\n",
    "generate_merchant_qr(\n",
    "    \"merchantupi@bank\", \"Shop Name\", \"500\", \"123456\", \"TXN987654\", \"ORD123456\"\n",
    ")"
   ]
  },
  {
   "cell_type": "code",
   "execution_count": 14,
   "id": "64d6e8b3",
   "metadata": {},
   "outputs": [
    {
     "name": "stdout",
     "output_type": "stream",
     "text": [
      "Personal UPI QR Code saved as personal_upi_qr.png\n"
     ]
    }
   ],
   "source": [
    "#qrcode (personal payment)\n",
    "def generate_personal_upi_qr(upi_id, name, amount=None, note=\"Payment\", filename=\"personal_upi_qr.png\"):\n",
    "    upi_string = f\"upi://pay?pa={upi_id}&pn={name}&tn={note}&cu=INR\"\n",
    "    if amount:\n",
    "        upi_string += f\"&am={amount}\"\n",
    "\n",
    "    qr = qrcode.make(upi_string)\n",
    "    qr.save(filename)\n",
    "    print(f\"Personal UPI QR Code saved as {filename}\")\n",
    "\n",
    "\n",
    "generate_personal_upi_qr(\"yourupi@bank\", \"Your Name\", amount=\"500\")\n"
   ]
  },
  {
   "cell_type": "code",
   "execution_count": 17,
   "id": "8e5a3352",
   "metadata": {},
   "outputs": [
    {
     "name": "stdout",
     "output_type": "stream",
     "text": [
      "✅ Logo QR Code saved as logo_qr.png\n"
     ]
    }
   ],
   "source": [
    "#qrcode (logo)\n",
    "from PIL import Image\n",
    "\n",
    "def generate_logo_qr(data, logo_path, filename=\"logo_qr.png\"):\n",
    "    qr = qrcode.QRCode(\n",
    "        version=5,\n",
    "        error_correction=qrcode.constants.ERROR_CORRECT_H,  # High error correction for logo\n",
    "        box_size=10,\n",
    "        border=4,\n",
    "    )\n",
    "    \n",
    "    qr.add_data(data)\n",
    "    qr.make(fit=True)\n",
    "    \n",
    "    # Generate QR code image\n",
    "    qr_img = qr.make_image(fill=\"black\", back_color=\"white\").convert(\"RGBA\")\n",
    "\n",
    "    # Open the logo\n",
    "    logo = Image.open(logo_path).convert(\"RGBA\")  # Convert to RGBA to ensure compatibility\n",
    "\n",
    "    # Resize logo\n",
    "    qr_width, qr_height = qr_img.size\n",
    "    logo_size = qr_width // 5  # Scale logo to 1/5th of QR code size\n",
    "    logo = logo.resize((logo_size, logo_size), Image.LANCZOS)\n",
    "\n",
    "    # Create a mask for the logo (handling transparency)\n",
    "    mask = logo.split()[3] if logo.mode == \"RGBA\" else None  # Get alpha channel if exists\n",
    "\n",
    "    # Position logo in the center\n",
    "    pos = ((qr_width - logo_size) // 2, (qr_height - logo_size) // 2)\n",
    "\n",
    "    # Paste logo on QR code\n",
    "    qr_img.paste(logo, pos, mask=mask)  # Use proper transparency mask\n",
    "    qr_img.save(filename)\n",
    "\n",
    "    print(f\"✅ Logo QR Code saved as {filename}\")\n",
    "\n",
    "# Example Usage\n",
    "generate_logo_qr(\"https://www.instagram.com\", \"logo.png\")\n"
   ]
  }
 ],
 "metadata": {
  "kernelspec": {
   "display_name": "Python 3",
   "language": "python",
   "name": "python3"
  },
  "language_info": {
   "codemirror_mode": {
    "name": "ipython",
    "version": 3
   },
   "file_extension": ".py",
   "mimetype": "text/x-python",
   "name": "python",
   "nbconvert_exporter": "python",
   "pygments_lexer": "ipython3",
   "version": "3.12.0"
  }
 },
 "nbformat": 4,
 "nbformat_minor": 5
}
